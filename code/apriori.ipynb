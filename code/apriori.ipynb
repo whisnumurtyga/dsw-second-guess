{
 "cells": [
  {
   "cell_type": "code",
   "execution_count": null,
   "metadata": {},
   "outputs": [],
   "source": [
    "# Install pustaka mlxtend jika belum terinstall\n",
    "# pip install mlxtend\n",
    "\n",
    "from mlxtend.frequent_patterns import apriori\n",
    "from mlxtend.frequent_patterns import association_rules\n",
    "import pandas as pd\n",
    "\n",
    "# Membaca data dari teks atau dataframe\n",
    "data = [\n",
    "    ['Yes', 'Yes', 'No', 'No', 'No', 'No'],\n",
    "    # ... tambahkan data lainnya di sini ...\n",
    "]\n",
    "\n",
    "# Membuat dataframe dari data\n",
    "df = pd.DataFrame(data, columns=['Item1', 'Item2', 'Item3', 'Item4', 'Item5', 'Item6'])\n",
    "\n",
    "# Mengganti 'Yes' dan 'No' dengan 1 dan 0\n",
    "df.replace({'Yes': 1, 'No': 0}, inplace=True)\n",
    "\n",
    "# Menggunakan algoritma Apriori\n",
    "frequent_itemsets = apriori(df, min_support=0.2, use_colnames=True)\n",
    "\n",
    "# Menghasilkan aturan asosiasi berdasarkan support dan confidence\n",
    "rules = association_rules(frequent_itemsets, metric=\"confidence\", min_threshold=0.7)\n",
    "\n",
    "# Menampilkan aturan asosiasi yang dihasilkan\n",
    "print(rules)\n"
   ]
  }
 ],
 "metadata": {
  "language_info": {
   "name": "python"
  }
 },
 "nbformat": 4,
 "nbformat_minor": 2
}
