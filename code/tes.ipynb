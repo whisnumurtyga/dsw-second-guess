{
 "cells": [
  {
   "cell_type": "code",
   "execution_count": 1,
   "metadata": {},
   "outputs": [],
   "source": [
    "import cv2\n",
    "import numpy as np\n",
    "\n",
    "# Function to compute LBP for a pixel\n",
    "def compute_lbp_pixel(img, x, y):\n",
    "    center_pixel = img[x, y]\n",
    "    binary_pattern = 0\n",
    "\n",
    "    # Define the neighbor coordinates\n",
    "    neighbors = [(-1, -1), (-1, 0), (-1, 1), (0, 1),\n",
    "                 (1, 1), (1, 0), (1, -1), (0, -1)]\n",
    "\n",
    "    # Calculate the binary pattern\n",
    "    for i, (dx, dy) in enumerate(neighbors):\n",
    "        neighbor_x, neighbor_y = x + dx, y + dy\n",
    "        if img[neighbor_x, neighbor_y] >= center_pixel:\n",
    "            binary_pattern += 2**i\n",
    "\n",
    "    return binary_pattern\n",
    "\n",
    "# Function to compute LBP for the entire image\n",
    "def compute_lbp_image(image):\n",
    "    height, width = image.shape\n",
    "    lbp_image = np.zeros((height, width), dtype=np.uint8)\n",
    "\n",
    "    for i in range(1, height - 1):\n",
    "        for j in range(1, width - 1):\n",
    "            lbp_image[i, j] = compute_lbp_pixel(image, i, j)\n",
    "\n",
    "    return lbp_image\n",
    "\n",
    "# Read an image\n",
    "image = cv2.imread('sample.jpg', cv2.IMREAD_GRAYSCALE)\n",
    "\n",
    "# Compute LBP on the image\n",
    "lbp_result = compute_lbp_image(image)\n",
    "\n",
    "# Display the LBP image\n",
    "cv2.imshow('LBP Image', lbp_result)\n",
    "cv2.waitKey(0)\n",
    "cv2.destroyAllWindows()\n"
   ]
  }
 ],
 "metadata": {
  "kernelspec": {
   "display_name": "smartcom",
   "language": "python",
   "name": "python3"
  },
  "language_info": {
   "codemirror_mode": {
    "name": "ipython",
    "version": 3
   },
   "file_extension": ".py",
   "mimetype": "text/x-python",
   "name": "python",
   "nbconvert_exporter": "python",
   "pygments_lexer": "ipython3",
   "version": "3.9.18"
  }
 },
 "nbformat": 4,
 "nbformat_minor": 2
}
